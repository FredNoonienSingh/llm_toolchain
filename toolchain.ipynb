{
 "cells": [
  {
   "cell_type": "markdown",
   "metadata": {},
   "source": [
    "#   LLM-Toolkette zum Dokumentenabgleich"
   ]
  },
  {
   "cell_type": "code",
   "execution_count": 1,
   "metadata": {},
   "outputs": [],
   "source": [
    "# imports\n",
    "import json\n",
    "import pandas as pd\n",
    "\n",
    "import lxml as etree\n",
    "\n",
    "from toolchain.llm import LLM\n",
    "from toolchain.util import Utils\n",
    "from toolchain.file_operations import FileOperations, X83_Parser\n",
    "\n",
    "path_to_xml:str = 'data/LV.X83'\n",
    "path_to_txt:str = 'data/Angebot_Lieferant.txt'"
   ]
  },
  {
   "cell_type": "markdown",
   "metadata": {},
   "source": [
    "## Table of Contents\n",
    "\n",
    "1. Setup\n",
    "2. Modell\n",
    "   1. Parameter\n",
    "3. Einlesen von XML-Dateien\n",
    "   1. Einlesen\n",
    "   2. Erstellen eines dictonaries\n",
    "4. Einlesen von TXT-Dateien \n",
    "   1. Einlesen\n",
    "   2. Verarbeitung des Textes\n",
    "5. LLM\n",
    "   1. Testen des Modells\n",
    "   2. Vergleich der XML-Daten und der TXT-Daten\n",
    "6. Ausgabe der Daten\n",
    "7. CLI"
   ]
  },
  {
   "cell_type": "markdown",
   "metadata": {},
   "source": [
    "## 1. Setup\n",
    "\n"
   ]
  },
  {
   "cell_type": "markdown",
   "metadata": {},
   "source": [
    "Installation von Dependencies:"
   ]
  },
  {
   "cell_type": "code",
   "execution_count": 2,
   "metadata": {
    "vscode": {
     "languageId": "shellscript"
    }
   },
   "outputs": [
    {
     "name": "stdout",
     "output_type": "stream",
     "text": [
      "Obtaining file:///Users/Frederic/Work/QNovi/llm_toolchain\n",
      "  Installing build dependencies ... \u001b[?25ldone\n",
      "\u001b[?25h  Checking if build backend supports build_editable ... \u001b[?25ldone\n",
      "\u001b[?25h  Getting requirements to build editable ... \u001b[?25ldone\n",
      "\u001b[?25h  Installing backend dependencies ... \u001b[?25ldone\n",
      "\u001b[?25h  Preparing editable metadata (pyproject.toml) ... \u001b[?25ldone\n",
      "\u001b[?25hRequirement already satisfied: pandas in ./.venv/lib/python3.12/site-packages (from llmtoolchain==1.0) (2.2.3)\n",
      "Requirement already satisfied: lxml in ./.venv/lib/python3.12/site-packages (from llmtoolchain==1.0) (5.3.1)\n",
      "Requirement already satisfied: ollama in ./.venv/lib/python3.12/site-packages (from llmtoolchain==1.0) (0.4.7)\n",
      "Requirement already satisfied: httpx<0.29,>=0.27 in ./.venv/lib/python3.12/site-packages (from ollama->llmtoolchain==1.0) (0.28.1)\n",
      "Requirement already satisfied: pydantic<3.0.0,>=2.9.0 in ./.venv/lib/python3.12/site-packages (from ollama->llmtoolchain==1.0) (2.10.6)\n",
      "Requirement already satisfied: numpy>=1.26.0 in ./.venv/lib/python3.12/site-packages (from pandas->llmtoolchain==1.0) (2.2.3)\n",
      "Requirement already satisfied: python-dateutil>=2.8.2 in ./.venv/lib/python3.12/site-packages (from pandas->llmtoolchain==1.0) (2.9.0.post0)\n",
      "Requirement already satisfied: pytz>=2020.1 in ./.venv/lib/python3.12/site-packages (from pandas->llmtoolchain==1.0) (2025.1)\n",
      "Requirement already satisfied: tzdata>=2022.7 in ./.venv/lib/python3.12/site-packages (from pandas->llmtoolchain==1.0) (2025.1)\n",
      "Requirement already satisfied: anyio in ./.venv/lib/python3.12/site-packages (from httpx<0.29,>=0.27->ollama->llmtoolchain==1.0) (4.8.0)\n",
      "Requirement already satisfied: certifi in ./.venv/lib/python3.12/site-packages (from httpx<0.29,>=0.27->ollama->llmtoolchain==1.0) (2025.1.31)\n",
      "Requirement already satisfied: httpcore==1.* in ./.venv/lib/python3.12/site-packages (from httpx<0.29,>=0.27->ollama->llmtoolchain==1.0) (1.0.7)\n",
      "Requirement already satisfied: idna in ./.venv/lib/python3.12/site-packages (from httpx<0.29,>=0.27->ollama->llmtoolchain==1.0) (3.10)\n",
      "Requirement already satisfied: h11<0.15,>=0.13 in ./.venv/lib/python3.12/site-packages (from httpcore==1.*->httpx<0.29,>=0.27->ollama->llmtoolchain==1.0) (0.14.0)\n",
      "Requirement already satisfied: annotated-types>=0.6.0 in ./.venv/lib/python3.12/site-packages (from pydantic<3.0.0,>=2.9.0->ollama->llmtoolchain==1.0) (0.7.0)\n",
      "Requirement already satisfied: pydantic-core==2.27.2 in ./.venv/lib/python3.12/site-packages (from pydantic<3.0.0,>=2.9.0->ollama->llmtoolchain==1.0) (2.27.2)\n",
      "Requirement already satisfied: typing-extensions>=4.12.2 in ./.venv/lib/python3.12/site-packages (from pydantic<3.0.0,>=2.9.0->ollama->llmtoolchain==1.0) (4.12.2)\n",
      "Requirement already satisfied: six>=1.5 in ./.venv/lib/python3.12/site-packages (from python-dateutil>=2.8.2->pandas->llmtoolchain==1.0) (1.17.0)\n",
      "Requirement already satisfied: sniffio>=1.1 in ./.venv/lib/python3.12/site-packages (from anyio->httpx<0.29,>=0.27->ollama->llmtoolchain==1.0) (1.3.1)\n",
      "Building wheels for collected packages: llmtoolchain\n",
      "  Building editable for llmtoolchain (pyproject.toml) ... \u001b[?25ldone\n",
      "\u001b[?25h  Created wheel for llmtoolchain: filename=llmtoolchain-1.0-0.editable-py3-none-any.whl size=4188 sha256=d3e5307c73f85e372941f3e05591cbe5b8af966ed4f4615dd8582d640642048b\n",
      "  Stored in directory: /private/var/folders/7y/ygmwwy3d5sd58bd59ybrzylh0000gn/T/pip-ephem-wheel-cache-c5nggdj4/wheels/f1/21/b0/86bcb14e6bf2aca866422583203be0bd46ec87d3f726c8f525\n",
      "Successfully built llmtoolchain\n",
      "Installing collected packages: llmtoolchain\n",
      "  Attempting uninstall: llmtoolchain\n",
      "    Found existing installation: llmtoolchain 1.0\n",
      "    Uninstalling llmtoolchain-1.0:\n",
      "      Successfully uninstalled llmtoolchain-1.0\n",
      "Successfully installed llmtoolchain-1.0\n"
     ]
    }
   ],
   "source": [
    "!bash -c \"pip install -e .\""
   ]
  },
  {
   "cell_type": "markdown",
   "metadata": {},
   "source": [
    "Modell erstellen"
   ]
  },
  {
   "cell_type": "code",
   "execution_count": 3,
   "metadata": {
    "vscode": {
     "languageId": "shellscript"
    }
   },
   "outputs": [
    {
     "name": "stdout",
     "output_type": "stream",
     "text": [
      "\u001b[?25lgathering model components \n",
      "using existing layer sha256:dde5aa3fc5ffc17176b5e8bdc82f587b24b2678c6c66101bf7da77af9f7ccdff \n",
      "using existing layer sha256:966de95ca8a62200913e3f8bfbf84c8494536f1b94b49166851e76644e966396 \n",
      "using existing layer sha256:fcc5a6bec9daf9b561a68827b67ab6088e1dba9d1fa2a50d7bbcc8384e0a265d \n",
      "using existing layer sha256:a70ff7e570d97baaf4e62ac6e6ad9975e04caa6d900d3742d37698494479e0cd \n",
      "using existing layer sha256:37356fdc1506250840cb1f907e76fd85f0063ea67edc31cf562a72819016c3ee \n",
      "using existing layer sha256:d9a23e71e4855bd6a069dc1001ecfb57e78fa6e4bec5fd423f5b8db9b2d48fd8 \n",
      "writing manifest \n",
      "success \u001b[?25h\n"
     ]
    }
   ],
   "source": [
    "!bash -c \"ollama create toolchain_model -f toolchain/modelfiles/model\""
   ]
  },
  {
   "cell_type": "markdown",
   "metadata": {},
   "source": [
    "überprüfen"
   ]
  },
  {
   "cell_type": "code",
   "execution_count": 4,
   "metadata": {
    "vscode": {
     "languageId": "shellscript"
    }
   },
   "outputs": [
    {
     "name": "stdout",
     "output_type": "stream",
     "text": [
      "NAME                      ID              SIZE      MODIFIED               \n",
      "toolchain_model:latest    cb7ba24436a0    2.0 GB    Less than a second ago    \n",
      "custom_model:latest       ce4fd6811715    2.0 GB    2 days ago                \n",
      "llama3.2:latest           a80c4f17acd5    2.0 GB    2 days ago                \n",
      "llama3.1:latest           42182419e950    4.7 GB    5 months ago              \n"
     ]
    }
   ],
   "source": [
    "!bash -c \"ollama list\""
   ]
  },
  {
   "cell_type": "markdown",
   "metadata": {},
   "source": [
    "## 2. Modell \n",
    "\n",
    "### 2.1 PARAMETER\n",
    "\n",
    "```python\n",
    "FROM llama3.2\n",
    "PARAMETER temperature 0.22\n",
    "PARAMETER repeat_last_n -1\n",
    "PARAMETER top_p .1\n",
    "PARAMETER top_k 25\n",
    "PARAMETER num_ctx 1024\n",
    "PARAMETER num_predict 256 \n",
    "SYSTEM \"\"\"\n",
    "    DO NOT HALLUCINATE \n",
    "\"\"\"\n",
    "```\n"
   ]
  },
  {
   "cell_type": "markdown",
   "metadata": {},
   "source": [
    "## 3. Einlesen von XML-Dateien\n",
    "\n",
    "### 3.1 Einlesen"
   ]
  },
  {
   "cell_type": "code",
   "execution_count": 5,
   "metadata": {},
   "outputs": [],
   "source": [
    "root = FileOperations.parse_xml_file(path_to_xml)"
   ]
  },
  {
   "cell_type": "code",
   "execution_count": 6,
   "metadata": {},
   "outputs": [
    {
     "name": "stdout",
     "output_type": "stream",
     "text": [
      "AAAAAAAAIBNBCLNI\n",
      "\tQty:1.000\n",
      "\tQU:St\n",
      "\tComplTSB:Yes\n",
      "\tDescription: Pufferspeicher  für Innenaufstellung mit Sonderausstattung für alle  Warmwasser-Zentralheizungsanlagen.  Verwendbar für:  festbrennstoffe-, ölgefeuerte Heizkessel, Wärme-  pumpen, Solaranlagen, Gas- oder Elektrodurchlauf-  erhitzer. Gefertigt aus Qualitätsstahl S235JR+AR,   eingestuft nach Druckgeräterichtlinie 2014/68/EU  in Bereich Artikel 4, Absatz 3  (Betriebsmedium: Wasser ohne Gaspolster).  Außen mit Rostschutzanstrich, innen roh.  Technische Daten   Alle Maße in mm ohne Isolierung  Inhalt:   3.133 Liter  Durchmesser:  1.400 mm  Höhe (Oberkante Entlüftung):  2.350 mm  Kippmaß:  2.477 mm  Gewicht (ohne Einbauten):  ca. 425 kg  Betriebsdruck (min.):    3 bar  Betriebsdruck (max.):    6 bar  Prüfdruck:   10 bar  Betriebstemperatur (min.):  20 °C  Betriebstemperatur (max.):  95 °C  Ausrüstung:  12  Muffen nach Wahl 1/2\", 1\", 1 1/2\"  1   Entlüftung bis 1 1/2\" 50 mm  4   Flansch DN 80, PN 16  4   Düsenrohr NW 100 / Bogenrohr  1   Entleerung Muffe 1\"  seitlich unten (im Klöpperboden)  Lochblech freier DG 50%  3   Standfuß mit 50 mm Bodenfreiheit  Stutzenlänge bis 260 mm  Anschlüsse nach Vorgabe, soweit technisch  möglich. Zeichnungserstellung nach Auftragseingang.  Fabrikat:   Buderus / Juratherm  oder gleichwertig  Typ:  Juratherm Pufferspeicher 3133l  angeb. Fabrikat:  '........................'  angeb. Typ:  '........................' \n",
      "\n",
      "\n",
      "\n",
      "AAAAAAAAIBNBEICI\n",
      "\tQty:1.000\n",
      "\tQU:St\n",
      "\tComplTSB:Yes\n",
      "\tDescription: Sonderisolierung 130 mm Vlies  Technische Daten:  Isolierung für Sonderspeicher:  3133 Liter  Durchmesser o. Isolierung:  1.400 mm  Durchmesser inkl. Isolierung:  1.660 mm  Höhe ohne Isolierung   (Oberkante Entlüftung):  2.350 mm  Höhe inkl. Isolierung und  Entlüftung:  2.450 mm  Sonderspeicher Vlies Isolierung:  Material:  Polyesterfaservlies  Isolierungsfarbe:  Silber (Standard)  (Mögliche andere Farben:  Weiß, Blau, Anthrazit)  Isolierstärke Mantel (roh):  145 mm  Isolierstärke Mantel (montiert):   130 mm  Raumgewicht:   2.340 g/m²  Isolierstärke Deckel:   150 mm  Raumgewicht:  2.000 g/m²  Lambda:   0,0388 W/mK  Brandklasse:  B2 nach DIN4102  Temperaturbeständigkeit:   110 °C  Progressiver Aufbau:  -  außen fest, innen weich, dadurch  Passgenauigkeit ohne Kaminverluste  -  Optimale Dämmung im Bereich der  Anschlüsse  -  40% weniger Wärmestillstandsverluste  gegenüber Weichschaum  -  Montagefreundlich durch geringes Gewicht  Fabrikat:   Buderus  oder gleichwertig  Typ:  Juratherm Sonderisolierung  angeb. Fabrikat:  '........................'  angeb. Typ:  '........................' \n",
      "\n",
      "\n",
      "\n",
      "AAAAAAAAIBNBGPNI\n",
      "\tProvis:WithoutTotal\n",
      "\tQty:1.000\n",
      "\tQU:St\n",
      "\tComplTSB:Yes\n",
      "\tDescription: Sonderisolierung 260 mm Vlies  Technische Daten:  Isolierung für Sonderspeicher:  3.133 Liter  Durchmesser ohne Isolierung:  1.400 mm  Durchmesser inkl. Isolierung:  1.920 mm  Höhe ohne Isolierung   (Oberkante Entlüftung):  2.350 mm  Höhe inkl. Isolierung und  Entlüftung:   2.600 mm  Bafa und EnEV konform!  Sonderspeicher Vlies Isolierung:  Material:  Polyesterfaservlies  Isolierungsfarbe:  Silber (Standard)  (Mögliche andere Farben:  Weiß, Blau, Anthrazit)  Isolierstärke Mantel (roh):  280 mm  Isolierstärke Mantel (montiert):  260 mm  Raumgewicht:   2.340 g/m²  Isolierstärke Deckel:  300 mm  Raumgewicht:  2.000 g/m²  Lambda:  0,0388 W/mK  Brandklasse:  B2 nach DIN4102  Temperaturbeständigkeit:  110 °C  Progressiver Aufbau:  -  außen fest innen weich, dadurch  Passgenauigkeit ohne Kaminverluste  -  Optimale Dämmung im Bereich der  Anschlüsse  -  50% weniger Wärmestillstandsverluste  gegenüber Weichschaum  -  Montagefreundlich durch geringes  Gewicht  Fabrikat:   Buderus  oder gleichwertig  Typ:  Juratherm Sonderisolierung  angeb. Fabrikat:  '........................'  angeb. Typ:  '........................' \n",
      "\n",
      "\n",
      "\n"
     ]
    }
   ],
   "source": [
    "xml_parser = X83_Parser(root)\n",
    "xml_dict:dict = xml_parser.create_dict()\n",
    "\n",
    "for key, value in xml_dict.items():\n",
    "    if isinstance(value,dict):\n",
    "        print(f\"{key}\")\n",
    "        for k, v in value.items(): \n",
    "            print(f\"\\t{k}:{v}\")\n",
    "    print(\"\\n\\n\")"
   ]
  },
  {
   "cell_type": "markdown",
   "metadata": {},
   "source": [
    "## 4. Einlesen von TXT-Dateien \n",
    "\n",
    "### 4.1 Einlesen"
   ]
  },
  {
   "cell_type": "code",
   "execution_count": 7,
   "metadata": {},
   "outputs": [],
   "source": [
    "content:str = FileOperations.parse_txt_file(path_to_txt)"
   ]
  },
  {
   "cell_type": "markdown",
   "metadata": {},
   "source": [
    "### 4.2 Verarbeiten des Textes"
   ]
  },
  {
   "cell_type": "code",
   "execution_count": 8,
   "metadata": {},
   "outputs": [
    {
     "data": {
      "text/plain": [
       "['1.1.10\\n(000070)\\nJuratherm Sonderspeicher 3133 Liter\\nPufferspeicher für Innenaufstellung mit\\nSonderausstattung für alle Warmwasser-\\nZentralheizungsanlagen. Verwendbar für:\\nfestbrennstoffe-, ölgefeuerte Heizkessel,\\nWärmepumpen, Solaranlagen, Gas- oder\\nElektrodurchlauferhitzer. Gefertigt aus Qualitätsstahl\\nS235JR+AR eingestuft nach Druckgeräterichtlinie\\n2014/68/EU in Bereich Artikel 4, Absatz 3\\n(Betriebsmedium: Wasser ohne Gaspolster). Außen mit\\nRostschutzanstrich, innen roh.\\nTechnische Daten Alle Maße in mm ohne Isolierung\\nInhalt: 3133 Liter\\nDurchmesser: 1400 mm\\nHöhe (Oberkante Entlüftung): 2350 mm\\nKippmaß: 2477 mm\\nGewicht (ohne Einbauten): ca. 425 kg\\nBetriebsdruck (min.): 0 bar\\nBetriebsdruck (max.): 6 bar\\nPrüfdruck: 10 bar\\nBetriebstemperatur (min.): 20 °C\\nBetriebstemperatur (max.): 95 °C\\nAusrüstung\\n12x Muffen nach Wahl 1/2\", 1\", 1 1/2\"\\n1x Entlüftung 1 1/2\" 50 mm\\n4x Flansch DN80 / PN6\\n4x Bogenrohr DN100 für Flansch DN80, nach oben\\nbzw. unten zum Klöpperboden gerichtet zur\\nStrömungsberuhigung und Volumenausnutzung\\n1x Lochblech, freier Durchgang bis 50%, d=1100mm\\n3x Fuß mit Bodenplatte, 50 mm Bodenfreiheit\\nStutzenlänge bis 260mm, Gegenflansche, Dichtungen,\\nSchrauben und sonstiges Zubehör bauseits.\\nAnschlüsse nach Kundenvorgabe, soweit technisch\\nmöglich. Zeichnungserstellung nach Auftragseingang.\\n02SN\\n1,00 ST',\n",
       " '1.1.20\\n(000080)\\nJuratherm Sonderisolierung 130mm Vlies\\nTechnische Daten Alle Maße in mm\\nIsolierung für Sonderspeicher: 3133 Liter\\nDurchmesser ohne Isolierung: 1400 mm\\nDurchmesser inkl. Isolierung: 1660 mm\\nHöhe ohne Isolierung (Oberkante Entlüftung): 2350 mm\\nHöhe inkl. Isolierung und Entlüftung: 2450 mm\\nSonderspeicher Vlies Isolierung\\nMaterial: Polyesterfaservlies\\nIsolierungsfarbe: Silber (Standard)\\nIsolierstärke Mantel (roh): 145 mm\\nIsolierstärke Mantel (montiert): 130 mm\\nRaumgewicht: 2340 g/m²\\nIsolierstärke Deckel: 150 mm\\nRaumgewicht: 2000 g/m²\\nLambda: 0,0388 W/mK\\nBrandklasse: B1 nach DIN4102\\nTemperaturbeständigkeit: 110 °C\\nProgressiver Aufbau:\\n- außen fest innen weich, dadurch\\n- Passgenauigkeit ohne Kaminverluste\\n- Optimale Dämmung im Bereich der Anschlüsse\\n- 40% weniger Wärmestillstandsverluste\\ngegenüber Weichschaum\\n- Montagefreundlich durch geringes Gewicht\\nNicht für Kaltwasseranlagen geeignet\\nda nicht dampfdiffusionsdicht.\\n02SN\\n1,00 ST',\n",
       " '1.1.30\\n(000090)\\nJuratherm Sonderisolierung 260mm Vlies\\nTechnische Daten Alle Maße in mm\\nIsolierung für Sonderspeicher: 3133 Liter\\nDurchmesser ohne Isolierung: 1400 mm\\nDurchmesser inkl. Isolierung: 1920 mm\\nHöhe ohne Isolierung (Oberkante Entlüftung): 2350 mm\\nHöhe inkl. Isolierung und Entlüftung: 2600 mm\\n! Bafa und EnEV konform !\\nSonderspeicher Vlies Isolierung\\nMaterial: Polyesterfaservlies\\nIsolierungsfarbe: Grau\\nIsolierstärke Mantel (roh): 280 mm\\nIsolierstärke Mantel (montiert): 260 mm\\nRaumgewicht: 2340 g/m²\\nIsolierstärke Deckel: 300 mm\\nRaumgewicht: 2000 g/m²\\nLambda: 0,0388 W/mK\\nBrandklasse: B2 nach DIN4102\\nTemperaturbeständigkeit: 110 °C\\nProgressiver Aufbau:\\n- außen fest innen weich, dadurch\\n- Passgenauigkeit ohne Kaminverluste\\n- Optimale Dämmung im Bereich der Anschlüsse\\n- 50% weniger Wärmestillstandsverluste\\ngegenüber Weichschaum\\n- Montagefreundlich durch geringes Gewicht\\nNicht für Kaltwasseranlagen geeignet\\nda nicht dampfdiffusionsdicht.\\n02SN\\n1,00 ST']"
      ]
     },
     "execution_count": 8,
     "metadata": {},
     "output_type": "execute_result"
    }
   ],
   "source": [
    "# text in Abschnitte unterteilen\n",
    "sections:list = content.split(\"\\n\\n\\n\")\n",
    "sections:list = [section.strip(\"\\n\") for section in sections]\n",
    "sections"
   ]
  },
  {
   "cell_type": "markdown",
   "metadata": {},
   "source": [
    "## 5. LLM\n",
    "\n"
   ]
  },
  {
   "cell_type": "code",
   "execution_count": 9,
   "metadata": {},
   "outputs": [],
   "source": [
    "languageModel:LLM = LLM('toolchain_model')"
   ]
  },
  {
   "cell_type": "markdown",
   "metadata": {},
   "source": [
    "### 5.1 Testen des Modells"
   ]
  },
  {
   "cell_type": "code",
   "execution_count": 10,
   "metadata": {},
   "outputs": [
    {
     "name": "stdout",
     "output_type": "stream",
     "text": [
      "I'm ready to compare some data. What kind of data would you like to compare, and what are the two datasets you'd like to compare them against?\n"
     ]
    }
   ],
   "source": [
    "prompt:str = \"Are you ready compare some data ?\"\n",
    "response:str = languageModel.get_response(prompt).response\n",
    "print(response)"
   ]
  },
  {
   "cell_type": "markdown",
   "metadata": {},
   "source": [
    "### 5.2 Vergleich der XML-Daten und der TXT-Daten\n"
   ]
  },
  {
   "cell_type": "code",
   "execution_count": 11,
   "metadata": {},
   "outputs": [],
   "source": [
    "prompts:list = []\n",
    "for i,value in enumerate(xml_dict.values()):\n",
    "    prompts.append(Utils.create_prompt(value['Description'], sections[i]))"
   ]
  },
  {
   "cell_type": "code",
   "execution_count": 12,
   "metadata": {},
   "outputs": [],
   "source": [
    "data:list = [languageModel.get_response(prompt).response for prompt in prompts]"
   ]
  },
  {
   "cell_type": "markdown",
   "metadata": {},
   "source": [
    "## 6. Ausgabe der Daten"
   ]
  },
  {
   "cell_type": "code",
   "execution_count": 13,
   "metadata": {},
   "outputs": [
    {
     "data": {
      "text/html": [
       "<div>\n",
       "<style scoped>\n",
       "    .dataframe tbody tr th:only-of-type {\n",
       "        vertical-align: middle;\n",
       "    }\n",
       "\n",
       "    .dataframe tbody tr th {\n",
       "        vertical-align: top;\n",
       "    }\n",
       "\n",
       "    .dataframe thead th {\n",
       "        text-align: right;\n",
       "    }\n",
       "</style>\n",
       "<table border=\"1\" class=\"dataframe\">\n",
       "  <thead>\n",
       "    <tr style=\"text-align: right;\">\n",
       "      <th></th>\n",
       "      <th>is_correct</th>\n",
       "      <th>llm_feedback</th>\n",
       "    </tr>\n",
       "  </thead>\n",
       "  <tbody>\n",
       "    <tr>\n",
       "      <th>0</th>\n",
       "      <td>True</td>\n",
       "      <td>Both descriptions describe the same product, a...</td>\n",
       "    </tr>\n",
       "    <tr>\n",
       "      <th>1</th>\n",
       "      <td>False</td>\n",
       "      <td>The descriptions are not entirely congruent du...</td>\n",
       "    </tr>\n",
       "    <tr>\n",
       "      <th>2</th>\n",
       "      <td>True</td>\n",
       "      <td>Both descriptions match in terms of product de...</td>\n",
       "    </tr>\n",
       "  </tbody>\n",
       "</table>\n",
       "</div>"
      ],
      "text/plain": [
       "   is_correct                                       llm_feedback\n",
       "0        True  Both descriptions describe the same product, a...\n",
       "1       False  The descriptions are not entirely congruent du...\n",
       "2        True  Both descriptions match in terms of product de..."
      ]
     },
     "execution_count": 13,
     "metadata": {},
     "output_type": "execute_result"
    }
   ],
   "source": [
    "df:pd.DataFrame = Utils.create_dataframe_from_responses(data)\n",
    "df.head()"
   ]
  },
  {
   "cell_type": "code",
   "execution_count": 14,
   "metadata": {},
   "outputs": [
    {
     "name": "stderr",
     "output_type": "stream",
     "text": [
      "\u001b[32m2025-02-21 02:25:11.713\u001b[0m | \u001b[1mINFO    \u001b[0m | \u001b[36mtoolchain.file_operations\u001b[0m:\u001b[36mwrite_to_xls\u001b[0m:\u001b[36m71\u001b[0m - \u001b[1mData successfully written to output.xls, sheet 'Sheet1'.\u001b[0m\n"
     ]
    },
    {
     "data": {
      "text/plain": [
       "True"
      ]
     },
     "execution_count": 14,
     "metadata": {},
     "output_type": "execute_result"
    }
   ],
   "source": [
    "FileOperations.write_to_xls(df)"
   ]
  },
  {
   "cell_type": "markdown",
   "metadata": {},
   "source": [
    "## 7. CLI "
   ]
  },
  {
   "cell_type": "markdown",
   "metadata": {},
   "source": [
    "Um die Toolchain vom Terminal aus zu nutzen, kann folgender Befehl verwendet werden. \n",
    "Dabei ist wichtig die Reinfolge der Argumente zu beachten, erst xml dann txt. \n",
    "Der Pfad zur Ausgabedatei ist optional. "
   ]
  },
  {
   "cell_type": "code",
   "execution_count": 15,
   "metadata": {
    "vscode": {
     "languageId": "shellscript"
    }
   },
   "outputs": [],
   "source": [
    "#!bash -c \"python run.py \"data/LV.X83\" \"data/Angebot_Lieferant.txt\" \"output.xls\"\""
   ]
  }
 ],
 "metadata": {
  "kernelspec": {
   "display_name": ".venv",
   "language": "python",
   "name": "python3"
  },
  "language_info": {
   "codemirror_mode": {
    "name": "ipython",
    "version": 3
   },
   "file_extension": ".py",
   "mimetype": "text/x-python",
   "name": "python",
   "nbconvert_exporter": "python",
   "pygments_lexer": "ipython3",
   "version": "3.12.5"
  }
 },
 "nbformat": 4,
 "nbformat_minor": 2
}
